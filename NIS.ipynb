{
 "cells": [
  {
   "cell_type": "code",
   "execution_count": null,
   "metadata": {},
   "outputs": [],
   "source": [
    "import plotly.offline as py\n",
    "from plotly.graph_objs import *\n",
    "import pandas as pd\n",
    "import math\n",
    "py.init_notebook_mode()\n",
    "\n",
    "def read_table(file_name):\n",
    "    my_cols=['time_stamp','px_state','py_state','v_state','yaw_angle_state','yaw_rate_state','sensor_type','NIS','px_measured','py_measured','px_ground_truth', 'py_ground_truth','vx_ground_truth','vy_ground_truth']\n",
    "    with open(file_name) as f:\n",
    "        return pd.read_table(f, sep='\\t', header=None, names=my_cols, lineterminator='\\n')\n",
    "\n",
    "#input file fields as they are saved into the UKF output file\n",
    "\n",
    "table_ekf_output1 = read_table('data/sample-laser-radar-measurement-data-output-1.txt')\n",
    "table_ekf_output2 = read_table('data/sample-laser-radar-measurement-data-output-2.txt')\n"
   ]
  },
  {
   "cell_type": "code",
   "execution_count": null,
   "metadata": {},
   "outputs": [],
   "source": [
    "#check the parsed file\n",
    "table_ekf_output1[0:5]"
   ]
  },
  {
   "cell_type": "code",
   "execution_count": null,
   "metadata": {},
   "outputs": [],
   "source": [
    "table_ekf_output2[0:5]"
   ]
  },
  {
   "cell_type": "code",
   "execution_count": null,
   "metadata": {},
   "outputs": [],
   "source": [
    "def get_sensor_data(table, sensor_type):\n",
    "    return table.loc[table['sensor_type']==sensor_type]"
   ]
  },
  {
   "cell_type": "code",
   "execution_count": null,
   "metadata": {},
   "outputs": [],
   "source": [
    "radar_data1 = get_sensor_data(table_ekf_output1, 'radar')\n",
    "radar_data1[0:5]"
   ]
  },
  {
   "cell_type": "code",
   "execution_count": null,
   "metadata": {},
   "outputs": [],
   "source": [
    "radar_data2 = get_sensor_data(table_ekf_output2, 'radar')\n",
    "radar_data2[0:5]"
   ]
  },
  {
   "cell_type": "code",
   "execution_count": null,
   "metadata": {
    "scrolled": false
   },
   "outputs": [],
   "source": [
    "import numpy as np\n",
    "import plotly.offline as py\n",
    "from plotly.graph_objs import *\n",
    "\n",
    "radar_NIS = 7.815\n",
    "lidar_NIS = 5.991\n",
    "\n",
    "def render_NIS(data, header, NIS_95):\n",
    "    t = range(0,len(data))\n",
    "\n",
    "    trace2 = Scatter(\n",
    "        x=list(t),\n",
    "        y=data['NIS'],\n",
    "        xaxis='x2',\n",
    "        yaxis='y2',\n",
    "        name = header,\n",
    "        #mode = 'markers'\n",
    "    )\n",
    "\n",
    "    trace1= Scatter(\n",
    "        x=[t[0], t[-1]],\n",
    "        y=[NIS_95, NIS_95],\n",
    "        xaxis='x2',\n",
    "        yaxis='y2',\n",
    "        name = '95 %'\n",
    "    )\n",
    "\n",
    "    data = [trace1, trace2]\n",
    "\n",
    "    layout = Layout(\n",
    "        xaxis2=dict(\n",
    "            anchor='x2',\n",
    "            title='k'\n",
    "        ),\n",
    "        yaxis2=dict(\n",
    "            anchor='y2'\n",
    "        )\n",
    "    )\n",
    "\n",
    "    fig = Figure(data=data, layout=layout)\n",
    "    py.iplot(fig)"
   ]
  },
  {
   "cell_type": "code",
   "execution_count": null,
   "metadata": {
    "scrolled": false
   },
   "outputs": [],
   "source": [
    "render_NIS(radar_data1, 'NIS radar output1', radar_NIS)"
   ]
  },
  {
   "cell_type": "code",
   "execution_count": null,
   "metadata": {},
   "outputs": [],
   "source": [
    "render_NIS(radar_data2, 'NIS radar output2', radar_NIS)"
   ]
  },
  {
   "cell_type": "code",
   "execution_count": null,
   "metadata": {
    "scrolled": true
   },
   "outputs": [],
   "source": [
    "lidar_data1 = get_sensor_data(table_ekf_output1, 'lidar')\n",
    "lidar_data1[0:5]"
   ]
  },
  {
   "cell_type": "code",
   "execution_count": null,
   "metadata": {},
   "outputs": [],
   "source": [
    "lidar_data2 = get_sensor_data(table_ekf_output2, 'lidar')\n",
    "lidar_data2[0:5]"
   ]
  },
  {
   "cell_type": "code",
   "execution_count": null,
   "metadata": {},
   "outputs": [],
   "source": [
    "render_NIS(lidar_data1, 'NIS lidar output1', lidar_NIS)"
   ]
  },
  {
   "cell_type": "code",
   "execution_count": null,
   "metadata": {},
   "outputs": [],
   "source": [
    "render_NIS(lidar_data2, 'NIS lidar output2', lidar_NIS)"
   ]
  }
 ],
 "metadata": {
  "anaconda-cloud": {},
  "kernelspec": {
   "display_name": "Python 3",
   "language": "python",
   "name": "python3"
  },
  "language_info": {
   "codemirror_mode": {
    "name": "ipython",
    "version": 3
   },
   "file_extension": ".py",
   "mimetype": "text/x-python",
   "name": "python",
   "nbconvert_exporter": "python",
   "pygments_lexer": "ipython3",
   "version": "3.6.1"
  }
 },
 "nbformat": 4,
 "nbformat_minor": 1
}
