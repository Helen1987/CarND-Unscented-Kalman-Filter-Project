{
 "cells": [
  {
   "cell_type": "code",
   "execution_count": null,
   "metadata": {
    "collapsed": false
   },
   "outputs": [],
   "source": [
    "import plotly.offline as py\n",
    "from plotly.graph_objs import *\n",
    "import pandas as pd\n",
    "import math\n",
    "py.init_notebook_mode()\n",
    "\n",
    "#input file fields as they are saved into the UKF output file\n",
    "my_cols=['time_stamp','px_state','py_state','v_state','yaw_angle_state','yaw_rate_state','sensor_type','NIS','px_measured','py_measured','px_ground_truth', 'py_ground_truth','vx_ground_truth','vy_ground_truth']\n",
    "with open('data/sample-laser-radar-measurement-data-output-1.txt') as f:\n",
    "    table_ekf_output = pd.read_table(f, sep='\\t', header=None, names=my_cols, lineterminator='\\n')\n"
   ]
  },
  {
   "cell_type": "code",
   "execution_count": null,
   "metadata": {
    "collapsed": false
   },
   "outputs": [],
   "source": [
    "#check the parsed file\n",
    "table_ekf_output[0:5]"
   ]
  },
  {
   "cell_type": "code",
   "execution_count": null,
   "metadata": {
    "collapsed": false
   },
   "outputs": [],
   "source": [
    "radar_data = table_ekf_output.loc[table_ekf_output['sensor_type']=='radar', 'NIS']\n",
    "radar_data[0:5]"
   ]
  },
  {
   "cell_type": "code",
   "execution_count": null,
   "metadata": {
    "collapsed": false
   },
   "outputs": [],
   "source": [
    "import numpy as np\n",
    "import plotly.offline as py\n",
    "from plotly.graph_objs import *\n",
    "\n",
    "t = range(0,len(radar_data))\n",
    "\n",
    "trace2 = Scatter(\n",
    "    x=list(t),\n",
    "    y=radar_data,\n",
    "    xaxis='x2',\n",
    "    yaxis='y2',\n",
    "    name = 'NIS radar',\n",
    "    #mode = 'markers'\n",
    ")\n",
    "\n",
    "\n",
    "trace1= Scatter(\n",
    "    x=[t[0], t[-1]],\n",
    "    y=[7.815, 7.815],\n",
    "    xaxis='x2',\n",
    "    yaxis='y2',\n",
    "    name = '95 %'\n",
    ")\n",
    "\n",
    "\n",
    "\n",
    "data = [trace1, trace2]\n",
    "\n",
    "layout = Layout(\n",
    "    xaxis2=dict(\n",
    "   \n",
    "        anchor='x2',\n",
    "        title='k'\n",
    "    ),\n",
    "    yaxis2=dict(\n",
    "    \n",
    "        anchor='y2'\n",
    "    )\n",
    ")\n",
    "\n",
    "fig = Figure(data=data, layout=layout)\n",
    "py.iplot(fig)"
   ]
  },
  {
   "cell_type": "code",
   "execution_count": null,
   "metadata": {
    "collapsed": false
   },
   "outputs": [],
   "source": [
    "lidar_data = table_ekf_output.loc[table_ekf_output['sensor_type']=='lidar', 'NIS']\n",
    "lidar_data[0:5]"
   ]
  },
  {
   "cell_type": "code",
   "execution_count": null,
   "metadata": {
    "collapsed": false
   },
   "outputs": [],
   "source": [
    "import numpy as np\n",
    "import plotly.offline as py\n",
    "from plotly.graph_objs import *\n",
    "\n",
    "t = range(0,len(lidar_data))\n",
    "\n",
    "trace2 = Scatter(\n",
    "    x=list(t),\n",
    "    y=lidar_data,\n",
    "    xaxis='x2',\n",
    "    yaxis='y2',\n",
    "    name = 'NIS lidar'\n",
    ")\n",
    "\n",
    "\n",
    "trace1= Scatter(\n",
    "    x=[t[0], t[-1]],\n",
    "    y=[5.991, 5.991],\n",
    "    xaxis='x2',\n",
    "    yaxis='y2',\n",
    "    name = '95 %',\n",
    ")\n",
    "\n",
    "data = [trace1, trace2]\n",
    "\n",
    "layout = Layout(\n",
    "    xaxis2=dict(\n",
    "   \n",
    "        anchor='x2',\n",
    "        title='k'\n",
    "    ),\n",
    "    yaxis2=dict(\n",
    "    \n",
    "        anchor='y2',\n",
    "        #title='py'\n",
    "    )\n",
    ")\n",
    "\n",
    "fig = Figure(data=data, layout=layout)\n",
    "py.iplot(fig)"
   ]
  }
 ],
 "metadata": {
  "anaconda-cloud": {},
  "kernelspec": {
   "display_name": "Python [conda env:IntroToTensorFlow]",
   "language": "python",
   "name": "conda-env-IntroToTensorFlow-py"
  },
  "language_info": {
   "codemirror_mode": {
    "name": "ipython",
    "version": 3
   },
   "file_extension": ".py",
   "mimetype": "text/x-python",
   "name": "python",
   "nbconvert_exporter": "python",
   "pygments_lexer": "ipython3",
   "version": "3.5.2"
  }
 },
 "nbformat": 4,
 "nbformat_minor": 1
}
